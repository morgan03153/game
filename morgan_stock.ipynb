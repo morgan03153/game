{
  "nbformat": 4,
  "nbformat_minor": 0,
  "metadata": {
    "colab": {
      "provenance": [],
      "mount_file_id": "1XwRn9MUqnDGeuqQL1kBLt5MpLkj5uHlM",
      "authorship_tag": "ABX9TyNtjvjsWO8etVltU4nHyccJ",
      "include_colab_link": true
    },
    "kernelspec": {
      "name": "python3",
      "display_name": "Python 3"
    },
    "language_info": {
      "name": "python"
    }
  },
  "cells": [
    {
      "cell_type": "markdown",
      "metadata": {
        "id": "view-in-github",
        "colab_type": "text"
      },
      "source": [
        "<a href=\"https://colab.research.google.com/github/morgan03153/game/blob/master/morgan_stock.ipynb\" target=\"_parent\"><img src=\"https://colab.research.google.com/assets/colab-badge.svg\" alt=\"Open In Colab\"/></a>"
      ]
    },
    {
      "cell_type": "code",
      "execution_count": null,
      "metadata": {
        "colab": {
          "base_uri": "https://localhost:8080/"
        },
        "collapsed": true,
        "id": "SXZIkEc1EKui",
        "outputId": "0d2a9080-9bb6-4c93-dbda-340e39ac6e16"
      },
      "outputs": [
        {
          "output_type": "stream",
          "name": "stdout",
          "text": [
            "Requirement already satisfied: pandas_datareader in /usr/local/lib/python3.10/dist-packages (0.10.0)\n",
            "Requirement already satisfied: lxml in /usr/local/lib/python3.10/dist-packages (from pandas_datareader) (4.9.4)\n",
            "Requirement already satisfied: pandas>=0.23 in /usr/local/lib/python3.10/dist-packages (from pandas_datareader) (2.1.4)\n",
            "Requirement already satisfied: requests>=2.19.0 in /usr/local/lib/python3.10/dist-packages (from pandas_datareader) (2.32.3)\n",
            "Requirement already satisfied: numpy<2,>=1.22.4 in /usr/local/lib/python3.10/dist-packages (from pandas>=0.23->pandas_datareader) (1.26.4)\n",
            "Requirement already satisfied: python-dateutil>=2.8.2 in /usr/local/lib/python3.10/dist-packages (from pandas>=0.23->pandas_datareader) (2.8.2)\n",
            "Requirement already satisfied: pytz>=2020.1 in /usr/local/lib/python3.10/dist-packages (from pandas>=0.23->pandas_datareader) (2024.1)\n",
            "Requirement already satisfied: tzdata>=2022.1 in /usr/local/lib/python3.10/dist-packages (from pandas>=0.23->pandas_datareader) (2024.1)\n",
            "Requirement already satisfied: charset-normalizer<4,>=2 in /usr/local/lib/python3.10/dist-packages (from requests>=2.19.0->pandas_datareader) (3.3.2)\n",
            "Requirement already satisfied: idna<4,>=2.5 in /usr/local/lib/python3.10/dist-packages (from requests>=2.19.0->pandas_datareader) (3.7)\n",
            "Requirement already satisfied: urllib3<3,>=1.21.1 in /usr/local/lib/python3.10/dist-packages (from requests>=2.19.0->pandas_datareader) (2.0.7)\n",
            "Requirement already satisfied: certifi>=2017.4.17 in /usr/local/lib/python3.10/dist-packages (from requests>=2.19.0->pandas_datareader) (2024.7.4)\n",
            "Requirement already satisfied: six>=1.5 in /usr/local/lib/python3.10/dist-packages (from python-dateutil>=2.8.2->pandas>=0.23->pandas_datareader) (1.16.0)\n"
          ]
        }
      ],
      "source": [
        "!pip install pandas_datareader"
      ]
    },
    {
      "cell_type": "code",
      "source": [
        "!pip install yfinance pandas numpy scikit-learn keras google-auth google-auth-oauthlib google-auth-httplib2 google-api-python-client google-cloud-storage\n"
      ],
      "metadata": {
        "id": "NYiuJVKnO84C"
      },
      "execution_count": null,
      "outputs": []
    },
    {
      "cell_type": "markdown",
      "source": [
        "畫曲線圖"
      ],
      "metadata": {
        "id": "gORsS1nxPDKZ"
      }
    },
    {
      "cell_type": "code",
      "source": [
        "import yfinance as yf\n",
        "import pandas as pd\n",
        "import matplotlib.pyplot as plt\n",
        "from datetime import datetime, timedelta\n",
        "import pandas_datareader.data as web\n",
        "\n",
        "# 設定時間範圍\n",
        "end_date = datetime.today()\n",
        "start_date = end_date - timedelta(days=60)\n",
        "\n",
        "# 獲取1個月期美國國債殖利率\n",
        "treasury_1mo = web.DataReader('DGS1MO', 'fred', start_date, end_date)\n",
        "\n",
        "# 獲取其他數據\n",
        "vix_data = yf.download('^VIX', start=start_date, end=end_date)\n",
        "voo_data = yf.download('VOO', start=start_date, end=end_date)\n",
        "nvda_data = yf.download('NVDA', start=start_date, end=end_date)\n",
        "msft_data = yf.download('MSFT', start=start_date, end=end_date)\n",
        "avgo_data = yf.download('AVGO', start=start_date, end=end_date)\n",
        "\n",
        "# 合併數據以便於繪圖\n",
        "combined_data = pd.DataFrame({\n",
        "    '1-Month Treasury Yield': treasury_1mo['DGS1MO'],\n",
        "    'VIX': vix_data['Close'],\n",
        "    'VOO': voo_data['Close'],\n",
        "    'NVDA': nvda_data['Close'],\n",
        "    'MSFT': msft_data['Close'],\n",
        "    'AVGO': avgo_data['Close']\n",
        "})\n",
        "\n",
        "# 正規化處理，使每條曲線的第一點為100\n",
        "normalized_data = combined_data.apply(lambda x: (x / x.iloc[0]) * 100)\n",
        "\n",
        "# 定義不同的marker\n",
        "markers = ['o', 'x', 's', 'D', '^', 'v']\n",
        "\n",
        "# 繪製所有曲線在同一張圖上，並在每一點加上不同的標記\n",
        "plt.figure(figsize=(14, 8))\n",
        "\n",
        "for i, column in enumerate(normalized_data.columns):\n",
        "    plt.plot(normalized_data.index, normalized_data[column], label=column, marker=markers[i])\n",
        "\n",
        "plt.title('Normalized 1-Month Treasury Yield, VIX, and Selected Stocks (Base 100)')\n",
        "plt.xlabel('Date')\n",
        "plt.ylabel('Normalized Value (Base 100)')\n",
        "plt.legend(loc='upper left')\n",
        "plt.grid(True)\n",
        "\n",
        "# 调整X轴日期标签为直式显示\n",
        "plt.xticks(rotation=90)\n",
        "\n",
        "plt.show()\n"
      ],
      "metadata": {
        "id": "oIWgDgZKZDmU"
      },
      "execution_count": null,
      "outputs": []
    },
    {
      "cell_type": "markdown",
      "source": [
        "使用LSTM訓練去預估NVDA在接下來14天內是否曾累積跌10%以上"
      ],
      "metadata": {
        "id": "gQ90E0dVPIQZ"
      }
    },
    {
      "cell_type": "code",
      "source": [
        "import yfinance as yf\n",
        "import pandas as pd\n",
        "from datetime import datetime, timedelta\n",
        "from sklearn.preprocessing import MinMaxScaler\n",
        "import numpy as np\n",
        "from keras.models import Sequential\n",
        "from keras.layers import Dense, LSTM, Dropout\n",
        "from keras.models import save_model\n",
        "import joblib\n",
        "from google.colab import drive\n",
        "import pandas_datareader.data as web\n",
        "\n",
        "# 连接Google Drive\n",
        "drive.mount('/content/drive')\n",
        "\n",
        "# 設定保存模型和標準化器的路徑\n",
        "save_path = '/content/drive/My Drive/nvda_lstm/'\n",
        "\n",
        "# 确保保存路径存在\n",
        "import os\n",
        "os.makedirs(save_path, exist_ok=True)\n",
        "\n",
        "# 設定時間範圍\n",
        "end_date = datetime.today() - timedelta(days=0)\n",
        "start_date = end_date - timedelta(days=60)\n",
        "\n",
        "# 獲取各個股票和指數的數據\n",
        "nvda_data = yf.download('NVDA', start=start_date, end=end_date)\n",
        "vix_data = yf.download('^VIX', start=start_date, end=end_date)\n",
        "voo_data = yf.download('VOO', start=start_date, end=end_date)\n",
        "msft_data = yf.download('MSFT', start=start_date, end=end_date)\n",
        "avgo_data = yf.download('AVGO', start=start_date, end=end_date)\n",
        "\n",
        "# 獲取美國1個月期國債殖利率數據\n",
        "# treasury_1mo = web.DataReader('DGS1MO', 'fred', start_date, end_date)\n",
        "\n",
        "\n",
        "# 填充缺失值\n",
        "nvda_data = nvda_data.fillna(method='ffill').fillna(method='bfill')\n",
        "vix_data = vix_data.fillna(method='ffill').fillna(method='bfill')\n",
        "voo_data = voo_data.fillna(method='ffill').fillna(method='bfill')\n",
        "msft_data = msft_data.fillna(method='ffill').fillna(method='bfill')\n",
        "avgo_data = avgo_data.fillna(method='ffill').fillna(method='bfill')\n",
        "# treasury_1mo = treasury_1mo.fillna(method='ffill').fillna(method='bfill')\n",
        "\n",
        "#breakpoint()\n",
        "# 对齐所有数据的索引\n",
        "combined_data = pd.concat([nvda_data['Close'], vix_data['Close'], voo_data['Close'], msft_data['Close'], avgo_data['Close']], axis=1).dropna()\n",
        "combined_data.columns = ['NVDA', 'VIX', 'VOO', 'MSFT', 'AVGO']\n",
        "\n",
        "# 将 NVDA 数据与特征数据对齐\n",
        "nvda_data_aligned = nvda_data.loc[combined_data.index]\n",
        "\n",
        "# 标准化数据\n",
        "scalers = {}\n",
        "for column in combined_data.columns:\n",
        "    scaler = MinMaxScaler(feature_range=(0, 1))\n",
        "    combined_data[column] = scaler.fit_transform(combined_data[column].values.reshape(-1, 1))\n",
        "    scalers[column] = scaler\n",
        "\n",
        "nvda_close = nvda_data_aligned['Close'].values.reshape(-1, 1)\n",
        "nvda_scaler = MinMaxScaler(feature_range=(0, 1))\n",
        "nvda_scaled = nvda_scaler.fit_transform(nvda_close)\n",
        "\n",
        "# 創建數據集，y 值使用 NVDA 的股價，判断未来14天内是否累计下跌超过10%\n",
        "def create_dataset(X, y, look_back=60, forward_days=14):\n",
        "    Xs, ys = [], []\n",
        "    for i in range(len(X) - look_back - forward_days):\n",
        "        Xs.append(X[i:i + look_back])\n",
        "        # 判断未来14天内是否有累计下跌超过10%的情况\n",
        "        future_window = y[i + look_back : i + look_back + forward_days]\n",
        "        max_drop = np.max((y[i + look_back] - future_window) / y[i + look_back])\n",
        "        ys.append(1 if max_drop >= 0.1 else 0)\n",
        "    return np.array(Xs), np.array(ys)\n",
        "\n",
        "look_back = 60\n",
        "forward_days = 14\n",
        "X, y_binary = create_dataset(combined_data.values, nvda_scaled, look_back, forward_days)\n",
        "\n",
        "# 构建LSTM模型\n",
        "model = Sequential()\n",
        "model.add(LSTM(50, return_sequences=True, input_shape=(X.shape[1], X.shape[2])))\n",
        "model.add(Dropout(0.2))\n",
        "model.add(LSTM(50, return_sequences=False))\n",
        "model.add(Dropout(0.2))\n",
        "model.add(Dense(25))\n",
        "model.add(Dense(1, activation='sigmoid'))\n",
        "\n",
        "model.compile(optimizer='adam', loss='binary_crossentropy', metrics=['accuracy'])\n",
        "\n",
        "# 拆分数据集为训练集和测试集\n",
        "split = int(len(X) * 0.8)\n",
        "X_train, X_test = X[:split], X[split:]\n",
        "y_train, y_test = y_binary[:split], y_binary[split:]\n",
        "\n",
        "# 训练模型\n",
        "model.fit(X_train, y_train, batch_size=32, epochs=10, validation_data=(X_test, y_test))\n",
        "\n",
        "# 保存模型和標準化器\n",
        "model_path = os.path.join(save_path, 'nvda_lstm_model_14days.h5')\n",
        "scaler_paths = {k: os.path.join(save_path, f\"{k}_scaler.pkl\") for k in scalers}\n",
        "\n",
        "save_model(model, model_path)\n",
        "\n",
        "# 保存 scalers\n",
        "joblib.dump(nvda_scaler, os.path.join(save_path, 'nvda_scaler.pkl'))\n",
        "for k, scaler in scalers.items():\n",
        "    joblib.dump(scaler, scaler_paths[k])\n",
        "\n",
        "print(f\"模型已保存到 {model_path}\")\n",
        "for k, path in scaler_paths.items():\n",
        "    print(f\"{k} 的 scaler 已保存到 {path}\")\n"
      ],
      "metadata": {
        "id": "2oYTWfNuX9vP",
        "colab": {
          "base_uri": "https://localhost:8080/",
          "height": 716
        },
        "outputId": "850f0e98-3730-4015-d073-c60b4bf484ff"
      },
      "execution_count": 7,
      "outputs": [
        {
          "output_type": "stream",
          "name": "stderr",
          "text": [
            "[*********************100%%**********************]  1 of 1 completed\n",
            "[*********************100%%**********************]  1 of 1 completed\n",
            "[*********************100%%**********************]  1 of 1 completed"
          ]
        },
        {
          "output_type": "stream",
          "name": "stdout",
          "text": [
            "Drive already mounted at /content/drive; to attempt to forcibly remount, call drive.mount(\"/content/drive\", force_remount=True).\n"
          ]
        },
        {
          "output_type": "stream",
          "name": "stderr",
          "text": [
            "\n",
            "[*********************100%%**********************]  1 of 1 completed\n",
            "[*********************100%%**********************]  1 of 1 completed\n",
            "<ipython-input-7-7b11773a3ee7>:39: FutureWarning: DataFrame.fillna with 'method' is deprecated and will raise in a future version. Use obj.ffill() or obj.bfill() instead.\n",
            "  nvda_data = nvda_data.fillna(method='ffill').fillna(method='bfill')\n",
            "<ipython-input-7-7b11773a3ee7>:40: FutureWarning: DataFrame.fillna with 'method' is deprecated and will raise in a future version. Use obj.ffill() or obj.bfill() instead.\n",
            "  vix_data = vix_data.fillna(method='ffill').fillna(method='bfill')\n",
            "<ipython-input-7-7b11773a3ee7>:41: FutureWarning: DataFrame.fillna with 'method' is deprecated and will raise in a future version. Use obj.ffill() or obj.bfill() instead.\n",
            "  voo_data = voo_data.fillna(method='ffill').fillna(method='bfill')\n",
            "<ipython-input-7-7b11773a3ee7>:42: FutureWarning: DataFrame.fillna with 'method' is deprecated and will raise in a future version. Use obj.ffill() or obj.bfill() instead.\n",
            "  msft_data = msft_data.fillna(method='ffill').fillna(method='bfill')\n",
            "<ipython-input-7-7b11773a3ee7>:43: FutureWarning: DataFrame.fillna with 'method' is deprecated and will raise in a future version. Use obj.ffill() or obj.bfill() instead.\n",
            "  avgo_data = avgo_data.fillna(method='ffill').fillna(method='bfill')\n"
          ]
        },
        {
          "output_type": "stream",
          "name": "stdout",
          "text": [
            "--Return--\n",
            "None\n",
            "> \u001b[0;32m<ipython-input-7-7b11773a3ee7>\u001b[0m(54)\u001b[0;36m<cell line: 54>\u001b[0;34m()\u001b[0m\n",
            "\u001b[0;32m     52 \u001b[0;31m\u001b[0mnvda_data_aligned\u001b[0m \u001b[0;34m=\u001b[0m \u001b[0mnvda_data\u001b[0m\u001b[0;34m.\u001b[0m\u001b[0mloc\u001b[0m\u001b[0;34m[\u001b[0m\u001b[0mcombined_data\u001b[0m\u001b[0;34m.\u001b[0m\u001b[0mindex\u001b[0m\u001b[0;34m]\u001b[0m\u001b[0;34m\u001b[0m\u001b[0;34m\u001b[0m\u001b[0m\n",
            "\u001b[0m\u001b[0;32m     53 \u001b[0;31m\u001b[0;34m\u001b[0m\u001b[0m\n",
            "\u001b[0m\u001b[0;32m---> 54 \u001b[0;31m\u001b[0mbreakpoint\u001b[0m\u001b[0;34m(\u001b[0m\u001b[0;34m)\u001b[0m\u001b[0;34m\u001b[0m\u001b[0;34m\u001b[0m\u001b[0m\n",
            "\u001b[0m\u001b[0;32m     55 \u001b[0;31m\u001b[0;31m# 标准化数据\u001b[0m\u001b[0;34m\u001b[0m\u001b[0;34m\u001b[0m\u001b[0m\n",
            "\u001b[0m\u001b[0;32m     56 \u001b[0;31m\u001b[0mscalers\u001b[0m \u001b[0;34m=\u001b[0m \u001b[0;34m{\u001b[0m\u001b[0;34m}\u001b[0m\u001b[0;34m\u001b[0m\u001b[0;34m\u001b[0m\u001b[0m\n",
            "\u001b[0m\n",
            "--KeyboardInterrupt--\n",
            "\n",
            "KeyboardInterrupt: Interrupted by user\n"
          ]
        },
        {
          "output_type": "error",
          "ename": "IndexError",
          "evalue": "tuple index out of range",
          "traceback": [
            "\u001b[0;31m---------------------------------------------------------------------------\u001b[0m",
            "\u001b[0;31mIndexError\u001b[0m                                Traceback (most recent call last)",
            "\u001b[0;32m<ipython-input-7-7b11773a3ee7>\u001b[0m in \u001b[0;36m<cell line: 83>\u001b[0;34m()\u001b[0m\n\u001b[1;32m     81\u001b[0m \u001b[0;31m# 构建LSTM模型\u001b[0m\u001b[0;34m\u001b[0m\u001b[0;34m\u001b[0m\u001b[0m\n\u001b[1;32m     82\u001b[0m \u001b[0mmodel\u001b[0m \u001b[0;34m=\u001b[0m \u001b[0mSequential\u001b[0m\u001b[0;34m(\u001b[0m\u001b[0;34m)\u001b[0m\u001b[0;34m\u001b[0m\u001b[0;34m\u001b[0m\u001b[0m\n\u001b[0;32m---> 83\u001b[0;31m \u001b[0mmodel\u001b[0m\u001b[0;34m.\u001b[0m\u001b[0madd\u001b[0m\u001b[0;34m(\u001b[0m\u001b[0mLSTM\u001b[0m\u001b[0;34m(\u001b[0m\u001b[0;36m50\u001b[0m\u001b[0;34m,\u001b[0m \u001b[0mreturn_sequences\u001b[0m\u001b[0;34m=\u001b[0m\u001b[0;32mTrue\u001b[0m\u001b[0;34m,\u001b[0m \u001b[0minput_shape\u001b[0m\u001b[0;34m=\u001b[0m\u001b[0;34m(\u001b[0m\u001b[0mX\u001b[0m\u001b[0;34m.\u001b[0m\u001b[0mshape\u001b[0m\u001b[0;34m[\u001b[0m\u001b[0;36m1\u001b[0m\u001b[0;34m]\u001b[0m\u001b[0;34m,\u001b[0m \u001b[0mX\u001b[0m\u001b[0;34m.\u001b[0m\u001b[0mshape\u001b[0m\u001b[0;34m[\u001b[0m\u001b[0;36m2\u001b[0m\u001b[0;34m]\u001b[0m\u001b[0;34m)\u001b[0m\u001b[0;34m)\u001b[0m\u001b[0;34m)\u001b[0m\u001b[0;34m\u001b[0m\u001b[0;34m\u001b[0m\u001b[0m\n\u001b[0m\u001b[1;32m     84\u001b[0m \u001b[0mmodel\u001b[0m\u001b[0;34m.\u001b[0m\u001b[0madd\u001b[0m\u001b[0;34m(\u001b[0m\u001b[0mDropout\u001b[0m\u001b[0;34m(\u001b[0m\u001b[0;36m0.2\u001b[0m\u001b[0;34m)\u001b[0m\u001b[0;34m)\u001b[0m\u001b[0;34m\u001b[0m\u001b[0;34m\u001b[0m\u001b[0m\n\u001b[1;32m     85\u001b[0m \u001b[0mmodel\u001b[0m\u001b[0;34m.\u001b[0m\u001b[0madd\u001b[0m\u001b[0;34m(\u001b[0m\u001b[0mLSTM\u001b[0m\u001b[0;34m(\u001b[0m\u001b[0;36m50\u001b[0m\u001b[0;34m,\u001b[0m \u001b[0mreturn_sequences\u001b[0m\u001b[0;34m=\u001b[0m\u001b[0;32mFalse\u001b[0m\u001b[0;34m)\u001b[0m\u001b[0;34m)\u001b[0m\u001b[0;34m\u001b[0m\u001b[0;34m\u001b[0m\u001b[0m\n",
            "\u001b[0;31mIndexError\u001b[0m: tuple index out of range"
          ]
        }
      ]
    },
    {
      "cell_type": "markdown",
      "source": [
        "預測程式"
      ],
      "metadata": {
        "id": "1gOHb1k4R9s5"
      }
    },
    {
      "cell_type": "code",
      "source": [
        "from keras.models import load_model\n",
        "import numpy as np\n",
        "import pandas as pd\n",
        "import joblib\n",
        "from datetime import datetime, timedelta\n",
        "import yfinance as yf\n",
        "import pandas_datareader.data as web\n",
        "from google.colab import drive\n",
        "\n",
        "# 连接Google Drive\n",
        "drive.mount('/content/drive')\n",
        "\n",
        "# 設定保存模型和標準化器的路徑\n",
        "save_path = '/content/drive/My Drive/nvda_lstm/'\n",
        "\n",
        "# 加载模型和scalers\n",
        "model_path = os.path.join(save_path, 'nvda_lstm_model_14days.h5')\n",
        "nvda_scaler = joblib.load(os.path.join(save_path, 'nvda_scaler.pkl'))\n",
        "scaler_paths = {\n",
        "    \"1-Month Treasury Yield\": os.path.join(save_path, '1-Month Treasury Yield_scaler.pkl'),\n",
        "    \"VIX\": os.path.join(save_path, 'VIX_scaler.pkl'),\n",
        "    \"VOO\": os.path.join(save_path, 'VOO_scaler.pkl'),\n",
        "    \"MSFT\": os.path.join(save_path, 'MSFT_scaler.pkl'),\n",
        "    \"AVGO\": os.path.join(save_path, 'AVGO_scaler.pkl')\n",
        "}\n",
        "\n",
        "model = load_model(model_path)\n",
        "scalers = {k: joblib.load(path) for k, path in scaler_paths.items()}\n",
        "\n",
        "# 設定時間範圍\n",
        "end_date = datetime.today() - timedelta(days=25)\n",
        "start_date = end_date - timedelta(days=600)\n",
        "\n",
        "# 獲取各個股票和指數的數據\n",
        "nvda_data = yf.download('NVDA', start=start_date, end=end_date)\n",
        "vix_data = yf.download('^VIX', start=start_date, end=end_date)\n",
        "voo_data = yf.download('VOO', start=start_date, end=end_date)\n",
        "msft_data = yf.download('MSFT', start=start_date, end=end_date)\n",
        "avgo_data = yf.download('AVGO', start=start_date, end=end_date)\n",
        "\n",
        "# 獲取美國1個月期國債殖利率數據\n",
        "treasury_1mo = web.DataReader('DGS1MO', 'fred', start_date, end_date)\n",
        "\n",
        "# 填充缺失值\n",
        "nvda_data = nvda_data.fillna(method='ffill').fillna(method='bfill')\n",
        "vix_data = vix_data.fillna(method='ffill').fillna(method='bfill')\n",
        "voo_data = voo_data.fillna(method='ffill').fillna(method='bfill')\n",
        "msft_data = msft_data.fillna(method='ffill').fillna(method='bfill')\n",
        "avgo_data = avgo_data.fillna(method='ffill').fillna(method='bfill')\n",
        "treasury_1mo = treasury_1mo.fillna(method='ffill').fillna(method='bfill')\n",
        "\n",
        "# 对齐所有数据的索引\n",
        "combined_data = pd.concat([treasury_1mo, vix_data['Close'], voo_data['Close'], msft_data['Close'], avgo_data['Close']], axis=1).dropna()\n",
        "combined_data.columns = ['1-Month Treasury Yield', 'VIX', 'VOO', 'MSFT', 'AVGO']\n",
        "\n",
        "# 将 NVDA 数据与特征数据对齐\n",
        "nvda_data_aligned = nvda_data.loc[combined_data.index]\n",
        "\n",
        "# 标准化数据\n",
        "for column in combined_data.columns:\n",
        "    combined_data[column] = scalers[column].transform(combined_data[column].values.reshape(-1, 1))\n",
        "\n",
        "nvda_close = nvda_data_aligned['Close'].values.reshape(-1, 1)\n",
        "nvda_scaled = nvda_scaler.transform(nvda_close)\n",
        "\n",
        "# 获取最近60天的数据\n",
        "look_back = 60\n",
        "last_lookback = np.array([combined_data.values[-look_back:]])\n",
        "\n",
        "# 预测未来14天内NVDA股价是否累计下跌超过10%\n",
        "predicted_value = model.predict(last_lookback)\n",
        "\n",
        "if predicted_value > 0.5:\n",
        "    print(\"预测未来14天内NVDA股价有超过10%的累计下跌风险。\")\n",
        "else:\n",
        "    print(\"预测未来14天内NVDA股价没有超过10%的累计下跌风险。\")\n"
      ],
      "metadata": {
        "colab": {
          "base_uri": "https://localhost:8080/"
        },
        "id": "YjHsxYzdYPeB",
        "outputId": "e50d03e4-b9f1-496e-d70d-b496ce74ad78"
      },
      "execution_count": null,
      "outputs": [
        {
          "output_type": "stream",
          "name": "stderr",
          "text": [
            "WARNING:absl:Compiled the loaded model, but the compiled metrics have yet to be built. `model.compile_metrics` will be empty until you train or evaluate the model.\n"
          ]
        },
        {
          "output_type": "stream",
          "name": "stdout",
          "text": [
            "Drive already mounted at /content/drive; to attempt to forcibly remount, call drive.mount(\"/content/drive\", force_remount=True).\n"
          ]
        },
        {
          "output_type": "stream",
          "name": "stderr",
          "text": [
            "[*********************100%%**********************]  1 of 1 completed\n",
            "[*********************100%%**********************]  1 of 1 completed\n",
            "[*********************100%%**********************]  1 of 1 completed\n",
            "[*********************100%%**********************]  1 of 1 completed\n",
            "[*********************100%%**********************]  1 of 1 completed\n",
            "<ipython-input-40-eb29eac7b921>:45: FutureWarning: DataFrame.fillna with 'method' is deprecated and will raise in a future version. Use obj.ffill() or obj.bfill() instead.\n",
            "  nvda_data = nvda_data.fillna(method='ffill').fillna(method='bfill')\n",
            "<ipython-input-40-eb29eac7b921>:46: FutureWarning: DataFrame.fillna with 'method' is deprecated and will raise in a future version. Use obj.ffill() or obj.bfill() instead.\n",
            "  vix_data = vix_data.fillna(method='ffill').fillna(method='bfill')\n",
            "<ipython-input-40-eb29eac7b921>:47: FutureWarning: DataFrame.fillna with 'method' is deprecated and will raise in a future version. Use obj.ffill() or obj.bfill() instead.\n",
            "  voo_data = voo_data.fillna(method='ffill').fillna(method='bfill')\n",
            "<ipython-input-40-eb29eac7b921>:48: FutureWarning: DataFrame.fillna with 'method' is deprecated and will raise in a future version. Use obj.ffill() or obj.bfill() instead.\n",
            "  msft_data = msft_data.fillna(method='ffill').fillna(method='bfill')\n",
            "<ipython-input-40-eb29eac7b921>:49: FutureWarning: DataFrame.fillna with 'method' is deprecated and will raise in a future version. Use obj.ffill() or obj.bfill() instead.\n",
            "  avgo_data = avgo_data.fillna(method='ffill').fillna(method='bfill')\n",
            "<ipython-input-40-eb29eac7b921>:50: FutureWarning: DataFrame.fillna with 'method' is deprecated and will raise in a future version. Use obj.ffill() or obj.bfill() instead.\n",
            "  treasury_1mo = treasury_1mo.fillna(method='ffill').fillna(method='bfill')\n"
          ]
        },
        {
          "output_type": "stream",
          "name": "stdout",
          "text": [
            "\u001b[1m1/1\u001b[0m \u001b[32m━━━━━━━━━━━━━━━━━━━━\u001b[0m\u001b[37m\u001b[0m \u001b[1m0s\u001b[0m 330ms/step\n",
            "预测未来14天内NVDA股价没有超过10%的累计下跌风险。\n"
          ]
        }
      ]
    }
  ]
}