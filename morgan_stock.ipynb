{
  "nbformat": 4,
  "nbformat_minor": 0,
  "metadata": {
    "colab": {
      "provenance": [],
      "mount_file_id": "1XwRn9MUqnDGeuqQL1kBLt5MpLkj5uHlM",
      "authorship_tag": "ABX9TyP3UplTDKl6pZ11mn/KTsBz",
      "include_colab_link": true
    },
    "kernelspec": {
      "name": "python3",
      "display_name": "Python 3"
    },
    "language_info": {
      "name": "python"
    }
  },
  "cells": [
    {
      "cell_type": "markdown",
      "metadata": {
        "id": "view-in-github",
        "colab_type": "text"
      },
      "source": [
        "<a href=\"https://colab.research.google.com/github/morgan03153/game/blob/master/morgan_stock.ipynb\" target=\"_parent\"><img src=\"https://colab.research.google.com/assets/colab-badge.svg\" alt=\"Open In Colab\"/></a>"
      ]
    },
    {
      "cell_type": "code",
      "execution_count": null,
      "metadata": {
        "colab": {
          "base_uri": "https://localhost:8080/"
        },
        "collapsed": true,
        "id": "SXZIkEc1EKui",
        "outputId": "0d2a9080-9bb6-4c93-dbda-340e39ac6e16"
      },
      "outputs": [
        {
          "output_type": "stream",
          "name": "stdout",
          "text": [
            "Requirement already satisfied: pandas_datareader in /usr/local/lib/python3.10/dist-packages (0.10.0)\n",
            "Requirement already satisfied: lxml in /usr/local/lib/python3.10/dist-packages (from pandas_datareader) (4.9.4)\n",
            "Requirement already satisfied: pandas>=0.23 in /usr/local/lib/python3.10/dist-packages (from pandas_datareader) (2.1.4)\n",
            "Requirement already satisfied: requests>=2.19.0 in /usr/local/lib/python3.10/dist-packages (from pandas_datareader) (2.32.3)\n",
            "Requirement already satisfied: numpy<2,>=1.22.4 in /usr/local/lib/python3.10/dist-packages (from pandas>=0.23->pandas_datareader) (1.26.4)\n",
            "Requirement already satisfied: python-dateutil>=2.8.2 in /usr/local/lib/python3.10/dist-packages (from pandas>=0.23->pandas_datareader) (2.8.2)\n",
            "Requirement already satisfied: pytz>=2020.1 in /usr/local/lib/python3.10/dist-packages (from pandas>=0.23->pandas_datareader) (2024.1)\n",
            "Requirement already satisfied: tzdata>=2022.1 in /usr/local/lib/python3.10/dist-packages (from pandas>=0.23->pandas_datareader) (2024.1)\n",
            "Requirement already satisfied: charset-normalizer<4,>=2 in /usr/local/lib/python3.10/dist-packages (from requests>=2.19.0->pandas_datareader) (3.3.2)\n",
            "Requirement already satisfied: idna<4,>=2.5 in /usr/local/lib/python3.10/dist-packages (from requests>=2.19.0->pandas_datareader) (3.7)\n",
            "Requirement already satisfied: urllib3<3,>=1.21.1 in /usr/local/lib/python3.10/dist-packages (from requests>=2.19.0->pandas_datareader) (2.0.7)\n",
            "Requirement already satisfied: certifi>=2017.4.17 in /usr/local/lib/python3.10/dist-packages (from requests>=2.19.0->pandas_datareader) (2024.7.4)\n",
            "Requirement already satisfied: six>=1.5 in /usr/local/lib/python3.10/dist-packages (from python-dateutil>=2.8.2->pandas>=0.23->pandas_datareader) (1.16.0)\n"
          ]
        }
      ],
      "source": [
        "!pip install pandas_datareader"
      ]
    },
    {
      "cell_type": "code",
      "source": [
        "!pip install yfinance pandas numpy scikit-learn keras google-auth google-auth-oauthlib google-auth-httplib2 google-api-python-client google-cloud-storage\n"
      ],
      "metadata": {
        "id": "NYiuJVKnO84C"
      },
      "execution_count": null,
      "outputs": []
    },
    {
      "cell_type": "markdown",
      "source": [
        "畫曲線圖"
      ],
      "metadata": {
        "id": "gORsS1nxPDKZ"
      }
    },
    {
      "cell_type": "code",
      "source": [
        "import yfinance as yf\n",
        "import pandas as pd\n",
        "import matplotlib.pyplot as plt\n",
        "from datetime import datetime, timedelta\n",
        "import pandas_datareader.data as web\n",
        "\n",
        "# 設定時間範圍\n",
        "end_date = datetime.today()\n",
        "start_date = end_date - timedelta(days=60)\n",
        "\n",
        "# 獲取1個月期美國國債殖利率\n",
        "treasury_1mo = web.DataReader('DGS1MO', 'fred', start_date, end_date)\n",
        "\n",
        "# 獲取其他數據\n",
        "vix_data = yf.download('^VIX', start=start_date, end=end_date)\n",
        "voo_data = yf.download('VOO', start=start_date, end=end_date)\n",
        "nvda_data = yf.download('NVDA', start=start_date, end=end_date)\n",
        "msft_data = yf.download('MSFT', start=start_date, end=end_date)\n",
        "avgo_data = yf.download('AVGO', start=start_date, end=end_date)\n",
        "\n",
        "# 合併數據以便於繪圖\n",
        "combined_data = pd.DataFrame({\n",
        "    '1-Month Treasury Yield': treasury_1mo['DGS1MO'],\n",
        "    'VIX': vix_data['Close'],\n",
        "    'VOO': voo_data['Close'],\n",
        "    'NVDA': nvda_data['Close'],\n",
        "    'MSFT': msft_data['Close'],\n",
        "    'AVGO': avgo_data['Close']\n",
        "})\n",
        "\n",
        "# 正規化處理，使每條曲線的第一點為100\n",
        "normalized_data = combined_data.apply(lambda x: (x / x.iloc[0]) * 100)\n",
        "\n",
        "# 定義不同的marker\n",
        "markers = ['o', 'x', 's', 'D', '^', 'v']\n",
        "\n",
        "# 繪製所有曲線在同一張圖上，並在每一點加上不同的標記\n",
        "plt.figure(figsize=(14, 8))\n",
        "\n",
        "for i, column in enumerate(normalized_data.columns):\n",
        "    plt.plot(normalized_data.index, normalized_data[column], label=column, marker=markers[i])\n",
        "\n",
        "plt.title('Normalized 1-Month Treasury Yield, VIX, and Selected Stocks (Base 100)')\n",
        "plt.xlabel('Date')\n",
        "plt.ylabel('Normalized Value (Base 100)')\n",
        "plt.legend(loc='upper left')\n",
        "plt.grid(True)\n",
        "\n",
        "# 调整X轴日期标签为直式显示\n",
        "plt.xticks(rotation=90)\n",
        "\n",
        "plt.show()\n"
      ],
      "metadata": {
        "id": "oIWgDgZKZDmU"
      },
      "execution_count": null,
      "outputs": []
    },
    {
      "cell_type": "markdown",
      "source": [
        "**使用LSTM訓練去預估NVDA在接下來14天內是否曾累積跌10%**\n",
        "1. 引入必要的庫\n",
        "yfinance 用於從 Yahoo Finance 下載股票數據。\n",
        "pandas 用於數據處理。\n",
        "datetime 和 timedelta 用於處理日期。\n",
        "MinMaxScaler 用於標準化數據。\n",
        "Sequential, Dense, LSTM, Dropout 是 Keras 中用於構建神經網絡模型的層。\n",
        "save_model 和 joblib 用於保存模型和標準化器。\n",
        "drive 用於連接 Google Drive，以保存模型。\n",
        "pandas_datareader 用於從金融數據源獲取數據。\n",
        "2. 連接Google Drive\n",
        "使用 drive.mount('/content/drive') 將 Google Drive 掛載到工作目錄中，以便後續將模型和標準化器保存到指定位置。\n",
        "3. 設置保存模型和標準化器的路徑\n",
        "指定將訓練好的模型和標準化器保存到 Google Drive 中的 nvda_lstm 目錄。\n",
        "4. 設定時間範圍\n",
        "使用 datetime 和 timedelta 設定股票數據的時間範圍，從當前日期開始往前60天。\n",
        "5. 下載股票和指數數據\n",
        "使用 yfinance 下載英伟达（NVDA）、波动率指数（VIX）、Vanguard S&P 500 ETF（VOO）、微軟（MSFT）、博通（AVGO）等股票和指數的數據。\n",
        "如果需要，也可以獲取美國1個月期國債殖利率數據（這部分代碼被註釋掉了）。\n",
        "6. 填充缺失值\n",
        "使用 ffill 和 bfill 方法填充缺失數據，以確保數據連續性。ffill 是向前填充，bfill 是向後填充。\n",
        "7. 對齊所有數據的索引\n",
        "將所有股票和指數的收盤價數據合併到一個 DataFrame 中，並去除任何包含缺失值的行。\n",
        "將合併後的數據標籤設置為股票代號（如 NVDA、VIX、VOO 等）。\n",
        "8. 將 NVDA 的數據與特徵數據對齊\n",
        "將英伟达（NVDA）的數據與合併的特徵數據對齊，以確保後續處理中時間軸一致。\n",
        "9. 標準化數據\n",
        "為了讓數據進入神經網絡模型進行有效訓練，將股票和指數的收盤價標準化到0到1之間的範圍。\n",
        "MinMaxScaler 用於將數據進行標準化，以避免不同數據列之間的量級差異影響模型的訓練。\n",
        "10. 處理 NVDA 的收盤價\n",
        "將 NVDA 的收盤價單獨取出，並使用 MinMaxScaler 進行標準化，為後續模型訓練做準備。\n",
        "目的：\n",
        "這段代碼的主要目的是準備數據，以便使用LSTM模型進行股票價格預測。LSTM模型在處理時間序列數據時非常有效，因此這裡使用了LSTM模型來預測英伟达（NVDA）的未來股票價格。標準化數據和對齊時間序列是準備LSTM模型訓練的重要步驟。後續步驟可能會包括構建和訓練LSTM模型，以及將訓練好的模型保存下來，以便將來進行預測。\n"
      ],
      "metadata": {
        "id": "gQ90E0dVPIQZ"
      }
    },
    {
      "cell_type": "code",
      "source": [
        "import yfinance as yf\n",
        "import pandas as pd\n",
        "from datetime import datetime, timedelta\n",
        "from sklearn.preprocessing import MinMaxScaler\n",
        "import numpy as np\n",
        "from keras.models import Sequential\n",
        "from keras.layers import Dense, LSTM, Dropout\n",
        "from keras.models import save_model\n",
        "import joblib\n",
        "from google.colab import drive\n",
        "import pandas_datareader.data as web\n",
        "\n",
        "# 连接Google Drive\n",
        "drive.mount('/content/drive')\n",
        "\n",
        "# 設定保存模型和標準化器的路徑\n",
        "save_path = '/content/drive/My Drive/nvda_lstm/'\n",
        "\n",
        "# 确保保存路径存在\n",
        "import os\n",
        "os.makedirs(save_path, exist_ok=True)\n",
        "\n",
        "# 設定時間範圍\n",
        "end_date = datetime.today() - timedelta(days=0)\n",
        "start_date = end_date - timedelta(days=60)\n",
        "\n",
        "# 獲取各個股票和指數的數據\n",
        "nvda_data = yf.download('NVDA', start=start_date, end=end_date)\n",
        "vix_data = yf.download('^VIX', start=start_date, end=end_date)\n",
        "voo_data = yf.download('VOO', start=start_date, end=end_date)\n",
        "msft_data = yf.download('MSFT', start=start_date, end=end_date)\n",
        "avgo_data = yf.download('AVGO', start=start_date, end=end_date)\n",
        "\n",
        "# 獲取美國1個月期國債殖利率數據\n",
        "# treasury_1mo = web.DataReader('DGS1MO', 'fred', start_date, end_date)\n",
        "\n",
        "\n",
        "# 填充缺失值\n",
        "nvda_data = nvda_data.fillna(method='ffill').fillna(method='bfill')\n",
        "vix_data = vix_data.fillna(method='ffill').fillna(method='bfill')\n",
        "voo_data = voo_data.fillna(method='ffill').fillna(method='bfill')\n",
        "msft_data = msft_data.fillna(method='ffill').fillna(method='bfill')\n",
        "avgo_data = avgo_data.fillna(method='ffill').fillna(method='bfill')\n",
        "# treasury_1mo = treasury_1mo.fillna(method='ffill').fillna(method='bfill')\n",
        "\n",
        "#breakpoint()\n",
        "# 对齐所有数据的索引\n",
        "combined_data = pd.concat([nvda_data['Close'], vix_data['Close'], voo_data['Close'], msft_data['Close'], avgo_data['Close']], axis=1).dropna()\n",
        "combined_data.columns = ['NVDA', 'VIX', 'VOO', 'MSFT', 'AVGO']\n",
        "\n",
        "# 将 NVDA 数据与特征数据对齐\n",
        "nvda_data_aligned = nvda_data.loc[combined_data.index]\n",
        "\n",
        "# 标准化数据\n",
        "scalers = {}\n",
        "for column in combined_data.columns:\n",
        "    scaler = MinMaxScaler(feature_range=(0, 1))\n",
        "    combined_data[column] = scaler.fit_transform(combined_data[column].values.reshape(-1, 1))\n",
        "    scalers[column] = scaler\n",
        "\n",
        "nvda_close = nvda_data_aligned['Close'].values.reshape(-1, 1)\n",
        "nvda_scaler = MinMaxScaler(feature_range=(0, 1))\n",
        "nvda_scaled = nvda_scaler.fit_transform(nvda_close)\n",
        "\n",
        "# 創建數據集，y 值使用 NVDA 的股價，判断未来14天内是否曾經下跌超过10%\n",
        "def create_dataset(X, y, look_back=60, forward_days=14):\n",
        "    Xs, ys = [], []\n",
        "    data_length = len(X) - look_back - forward_days\n",
        "    print(f\"data_length={data_length}\")\n",
        "    for i in range(len(X) - look_back - forward_days):\n",
        "        Xs.append(X[i:i + look_back])\n",
        "        # 判断未来14天内是否曾經计下跌超过10%的情况\n",
        "        future_window = y[i + look_back : i + look_back + forward_days]\n",
        "        max_drop = np.max((y[i + look_back] - future_window) / y[i + look_back])\n",
        "        ys.append(1 if max_drop >= 0.1 else 0)\n",
        "    return np.array(Xs), np.array(ys)\n",
        "\n",
        "look_back = 60\n",
        "forward_days = 14\n",
        "print(f\"comfined_data valuess:{combined_data.values} \")\n",
        "X, y_binary = create_dataset(combined_data.values, nvda_scaled, look_back, forward_days)\n",
        "breakpoint()\n",
        "# 构建LSTM模型\n",
        "model = Sequential()\n",
        "model.add(LSTM(50, return_sequences=True, input_shape=(X.shape[1], X.shape[2])))\n",
        "model.add(Dropout(0.2))\n",
        "model.add(LSTM(50, return_sequences=False))\n",
        "model.add(Dropout(0.2))\n",
        "model.add(Dense(25))\n",
        "model.add(Dense(1, activation='sigmoid'))\n",
        "\n",
        "model.compile(optimizer='adam', loss='binary_crossentropy', metrics=['accuracy'])\n",
        "\n",
        "# 拆分数据集为训练集和测试集\n",
        "split = int(len(X) * 0.8)\n",
        "X_train, X_test = X[:split], X[split:]\n",
        "y_train, y_test = y_binary[:split], y_binary[split:]\n",
        "\n",
        "# 训练模型\n",
        "model.fit(X_train, y_train, batch_size=32, epochs=10, validation_data=(X_test, y_test))\n",
        "\n",
        "# 保存模型和標準化器\n",
        "model_path = os.path.join(save_path, 'nvda_lstm_model_14days.h5')\n",
        "scaler_paths = {k: os.path.join(save_path, f\"{k}_scaler.pkl\") for k in scalers}\n",
        "\n",
        "save_model(model, model_path)\n",
        "\n",
        "# 保存 scalers\n",
        "joblib.dump(nvda_scaler, os.path.join(save_path, 'nvda_scaler.pkl'))\n",
        "for k, scaler in scalers.items():\n",
        "    joblib.dump(scaler, scaler_paths[k])\n",
        "\n",
        "print(f\"模型已保存到 {model_path}\")\n",
        "for k, path in scaler_paths.items():\n",
        "    print(f\"{k} 的 scaler 已保存到 {path}\")\n"
      ],
      "metadata": {
        "id": "2oYTWfNuX9vP",
        "colab": {
          "base_uri": "https://localhost:8080/"
        },
        "outputId": "e4da5e94-e9bc-4b71-9e93-718d966f38ae"
      },
      "execution_count": null,
      "outputs": [
        {
          "output_type": "stream",
          "name": "stderr",
          "text": [
            "[*********************100%%**********************]  1 of 1 completed\n",
            "[*********************100%%**********************]  1 of 1 completed"
          ]
        },
        {
          "output_type": "stream",
          "name": "stdout",
          "text": [
            "Drive already mounted at /content/drive; to attempt to forcibly remount, call drive.mount(\"/content/drive\", force_remount=True).\n"
          ]
        },
        {
          "output_type": "stream",
          "name": "stderr",
          "text": [
            "\n",
            "[*********************100%%**********************]  1 of 1 completed\n",
            "[*********************100%%**********************]  1 of 1 completed\n",
            "[*********************100%%**********************]  1 of 1 completed\n",
            "<ipython-input-17-f72897e0ce4a>:39: FutureWarning: DataFrame.fillna with 'method' is deprecated and will raise in a future version. Use obj.ffill() or obj.bfill() instead.\n",
            "  nvda_data = nvda_data.fillna(method='ffill').fillna(method='bfill')\n",
            "<ipython-input-17-f72897e0ce4a>:40: FutureWarning: DataFrame.fillna with 'method' is deprecated and will raise in a future version. Use obj.ffill() or obj.bfill() instead.\n",
            "  vix_data = vix_data.fillna(method='ffill').fillna(method='bfill')\n",
            "<ipython-input-17-f72897e0ce4a>:41: FutureWarning: DataFrame.fillna with 'method' is deprecated and will raise in a future version. Use obj.ffill() or obj.bfill() instead.\n",
            "  voo_data = voo_data.fillna(method='ffill').fillna(method='bfill')\n",
            "<ipython-input-17-f72897e0ce4a>:42: FutureWarning: DataFrame.fillna with 'method' is deprecated and will raise in a future version. Use obj.ffill() or obj.bfill() instead.\n",
            "  msft_data = msft_data.fillna(method='ffill').fillna(method='bfill')\n",
            "<ipython-input-17-f72897e0ce4a>:43: FutureWarning: DataFrame.fillna with 'method' is deprecated and will raise in a future version. Use obj.ffill() or obj.bfill() instead.\n",
            "  avgo_data = avgo_data.fillna(method='ffill').fillna(method='bfill')\n"
          ]
        },
        {
          "output_type": "stream",
          "name": "stdout",
          "text": [
            "comfined_data valuess:[[0.71693468 0.00375518 0.51186177 0.63402847 0.28489593]\n",
            " [0.83719658 0.         0.53330275 0.64120964 0.6784865 ]\n",
            " [0.89910016 0.02703719 0.5424274  0.65488207 0.79872154]\n",
            " [0.87455669 0.03041684 0.63275575 0.73498134 1.        ]\n",
            " [1.         0.01351861 0.66332138 0.70694655 0.94347566]\n",
            " [0.86910272 0.05031919 0.63138719 0.69810821 0.79769179]\n",
            " [0.75429499 0.04731507 0.60629579 0.75445383 0.63481153]\n",
            " [0.52358871 0.05219678 0.57550183 0.72531442 0.492331  ]\n",
            " [0.74120518 0.03379649 0.62294751 0.77061201 0.46783353]\n",
            " [0.7496591  0.02290652 0.63572119 0.78732229 0.4918806 ]\n",
            " [0.6839377  0.0112655  0.65351314 0.79685139 0.48042562]\n",
            " [0.67166617 0.01877582 0.56865904 0.71537102 0.52090429]\n",
            " [0.69239162 0.01051448 0.59489067 0.85043522 0.59656357]\n",
            " [0.64794098 0.00337965 0.66902394 0.88565118 0.6323445 ]\n",
            " [0.8009271  0.00563277 0.72103125 0.90622831 0.78623681]\n",
            " [0.73411507 0.02027788 0.79014624 1.         0.73065614]\n",
            " [0.79874543 0.01614721 0.80132303 0.98177037 0.82193198]\n",
            " [0.88546504 0.02140446 0.81409741 0.88924197 0.79501036]\n",
            " [0.98172898 0.03417202 0.92632338 0.98190861 0.81942207]\n",
            " [0.77692935 0.03680062 0.82550252 0.82240043 0.73631947]\n",
            " [0.82710672 0.01952687 0.89758226 0.80651831 0.72499313]\n",
            " [0.80529044 0.04431094 0.93316617 0.81218056 0.75401682]\n",
            " [0.74856827 0.04693954 1.         0.75086304 0.71025609]\n",
            " [0.5203162  0.09538115 0.83462648 0.66800156 0.42280705]\n",
            " [0.60485393 0.14983104 0.74680693 0.62449936 0.52019662]\n",
            " [0.51868005 0.17198651 0.66947989 0.57947783 0.4521957 ]\n",
            " [0.67166617 0.11152836 0.78900601 0.6599918  0.53178023]\n",
            " [0.64575931 0.10439357 0.76961717 0.68636942 0.58991369]\n",
            " [0.41832553 0.22906501 0.50387805 0.46609582 0.32327253]\n",
            " [0.3646031  0.24483663 0.44662413 0.32108823 0.27865357]\n",
            " [0.38587386 0.16710476 0.57322067 0.41596456 0.32949362]\n",
            " [0.34578656 0.17499064 0.58166104 0.43612782 0.29924706]\n",
            " [0.13144259 0.21592193 0.52189763 0.38351082 0.1555227 ]\n",
            " [0.49386403 0.16597826 0.70095813 0.32039789 0.52362859]\n",
            " [0.28088345 0.24971838 0.54356764 0.3032729  0.23060262]\n",
            " [0.22797909 0.42996619 0.33553839 0.18422864 0.16195819]\n",
            " [0.041996   1.         0.         0.         0.12463262]\n",
            " [0.14562303 0.59218924 0.1081203  0.06159358 0.16410313]\n",
            " [0.         0.59744652 0.03216182 0.04529759 0.        ]\n",
            " [0.16525765 0.44498691 0.28581224 0.10412938 0.20314485]\n",
            " [0.15925816 0.31656032 0.33348555 0.15011731 0.25720216]] \n",
            "data_length=-33\n",
            "--Return--\n",
            "None\n",
            "> \u001b[0;32m<ipython-input-17-f72897e0ce4a>\u001b[0m(82)\u001b[0;36m<cell line: 82>\u001b[0;34m()\u001b[0m\n",
            "\u001b[0;32m     80 \u001b[0;31m\u001b[0mprint\u001b[0m\u001b[0;34m(\u001b[0m\u001b[0;34mf\"comfined_data valuess:{combined_data.values} \"\u001b[0m\u001b[0;34m)\u001b[0m\u001b[0;34m\u001b[0m\u001b[0;34m\u001b[0m\u001b[0m\n",
            "\u001b[0m\u001b[0;32m     81 \u001b[0;31m\u001b[0mX\u001b[0m\u001b[0;34m,\u001b[0m \u001b[0my_binary\u001b[0m \u001b[0;34m=\u001b[0m \u001b[0mcreate_dataset\u001b[0m\u001b[0;34m(\u001b[0m\u001b[0mcombined_data\u001b[0m\u001b[0;34m.\u001b[0m\u001b[0mvalues\u001b[0m\u001b[0;34m,\u001b[0m \u001b[0mnvda_scaled\u001b[0m\u001b[0;34m,\u001b[0m \u001b[0mlook_back\u001b[0m\u001b[0;34m,\u001b[0m \u001b[0mforward_days\u001b[0m\u001b[0;34m)\u001b[0m\u001b[0;34m\u001b[0m\u001b[0;34m\u001b[0m\u001b[0m\n",
            "\u001b[0m\u001b[0;32m---> 82 \u001b[0;31m\u001b[0mbreakpoint\u001b[0m\u001b[0;34m(\u001b[0m\u001b[0;34m)\u001b[0m\u001b[0;34m\u001b[0m\u001b[0;34m\u001b[0m\u001b[0m\n",
            "\u001b[0m\u001b[0;32m     83 \u001b[0;31m\u001b[0;31m# 构建LSTM模型\u001b[0m\u001b[0;34m\u001b[0m\u001b[0;34m\u001b[0m\u001b[0m\n",
            "\u001b[0m\u001b[0;32m     84 \u001b[0;31m\u001b[0mmodel\u001b[0m \u001b[0;34m=\u001b[0m \u001b[0mSequential\u001b[0m\u001b[0;34m(\u001b[0m\u001b[0;34m)\u001b[0m\u001b[0;34m\u001b[0m\u001b[0;34m\u001b[0m\u001b[0m\n",
            "\u001b[0m\n"
          ]
        }
      ]
    },
    {
      "cell_type": "markdown",
      "source": [
        "預測程式"
      ],
      "metadata": {
        "id": "1gOHb1k4R9s5"
      }
    },
    {
      "cell_type": "code",
      "source": [
        "from keras.models import load_model\n",
        "import numpy as np\n",
        "import pandas as pd\n",
        "import joblib\n",
        "from datetime import datetime, timedelta\n",
        "import yfinance as yf\n",
        "import pandas_datareader.data as web\n",
        "from google.colab import drive\n",
        "\n",
        "# 连接Google Drive\n",
        "drive.mount('/content/drive')\n",
        "\n",
        "# 設定保存模型和標準化器的路徑\n",
        "save_path = '/content/drive/My Drive/nvda_lstm/'\n",
        "\n",
        "# 加载模型和scalers\n",
        "model_path = os.path.join(save_path, 'nvda_lstm_model_14days.h5')\n",
        "nvda_scaler = joblib.load(os.path.join(save_path, 'nvda_scaler.pkl'))\n",
        "scaler_paths = {\n",
        "    \"1-Month Treasury Yield\": os.path.join(save_path, '1-Month Treasury Yield_scaler.pkl'),\n",
        "    \"VIX\": os.path.join(save_path, 'VIX_scaler.pkl'),\n",
        "    \"VOO\": os.path.join(save_path, 'VOO_scaler.pkl'),\n",
        "    \"MSFT\": os.path.join(save_path, 'MSFT_scaler.pkl'),\n",
        "    \"AVGO\": os.path.join(save_path, 'AVGO_scaler.pkl')\n",
        "}\n",
        "\n",
        "model = load_model(model_path)\n",
        "scalers = {k: joblib.load(path) for k, path in scaler_paths.items()}\n",
        "\n",
        "# 設定時間範圍\n",
        "end_date = datetime.today() - timedelta(days=25)\n",
        "start_date = end_date - timedelta(days=600)\n",
        "\n",
        "# 獲取各個股票和指數的數據\n",
        "nvda_data = yf.download('NVDA', start=start_date, end=end_date)\n",
        "vix_data = yf.download('^VIX', start=start_date, end=end_date)\n",
        "voo_data = yf.download('VOO', start=start_date, end=end_date)\n",
        "msft_data = yf.download('MSFT', start=start_date, end=end_date)\n",
        "avgo_data = yf.download('AVGO', start=start_date, end=end_date)\n",
        "\n",
        "# 獲取美國1個月期國債殖利率數據\n",
        "treasury_1mo = web.DataReader('DGS1MO', 'fred', start_date, end_date)\n",
        "\n",
        "# 填充缺失值\n",
        "nvda_data = nvda_data.fillna(method='ffill').fillna(method='bfill')\n",
        "vix_data = vix_data.fillna(method='ffill').fillna(method='bfill')\n",
        "voo_data = voo_data.fillna(method='ffill').fillna(method='bfill')\n",
        "msft_data = msft_data.fillna(method='ffill').fillna(method='bfill')\n",
        "avgo_data = avgo_data.fillna(method='ffill').fillna(method='bfill')\n",
        "treasury_1mo = treasury_1mo.fillna(method='ffill').fillna(method='bfill')\n",
        "\n",
        "# 对齐所有数据的索引\n",
        "combined_data = pd.concat([treasury_1mo, vix_data['Close'], voo_data['Close'], msft_data['Close'], avgo_data['Close']], axis=1).dropna()\n",
        "combined_data.columns = ['1-Month Treasury Yield', 'VIX', 'VOO', 'MSFT', 'AVGO']\n",
        "\n",
        "# 将 NVDA 数据与特征数据对齐\n",
        "nvda_data_aligned = nvda_data.loc[combined_data.index]\n",
        "\n",
        "# 标准化数据\n",
        "for column in combined_data.columns:\n",
        "    combined_data[column] = scalers[column].transform(combined_data[column].values.reshape(-1, 1))\n",
        "\n",
        "nvda_close = nvda_data_aligned['Close'].values.reshape(-1, 1)\n",
        "nvda_scaled = nvda_scaler.transform(nvda_close)\n",
        "\n",
        "# 获取最近60天的数据\n",
        "look_back = 60\n",
        "last_lookback = np.array([combined_data.values[-look_back:]])\n",
        "\n",
        "# 预测未来14天内NVDA股价是否累计下跌超过10%\n",
        "predicted_value = model.predict(last_lookback)\n",
        "\n",
        "if predicted_value > 0.5:\n",
        "    print(\"预测未来14天内NVDA股价有超过10%的累计下跌风险。\")\n",
        "else:\n",
        "    print(\"预测未来14天内NVDA股价没有超过10%的累计下跌风险。\")\n"
      ],
      "metadata": {
        "colab": {
          "base_uri": "https://localhost:8080/"
        },
        "id": "YjHsxYzdYPeB",
        "outputId": "e50d03e4-b9f1-496e-d70d-b496ce74ad78"
      },
      "execution_count": null,
      "outputs": [
        {
          "output_type": "stream",
          "name": "stderr",
          "text": [
            "WARNING:absl:Compiled the loaded model, but the compiled metrics have yet to be built. `model.compile_metrics` will be empty until you train or evaluate the model.\n"
          ]
        },
        {
          "output_type": "stream",
          "name": "stdout",
          "text": [
            "Drive already mounted at /content/drive; to attempt to forcibly remount, call drive.mount(\"/content/drive\", force_remount=True).\n"
          ]
        },
        {
          "output_type": "stream",
          "name": "stderr",
          "text": [
            "[*********************100%%**********************]  1 of 1 completed\n",
            "[*********************100%%**********************]  1 of 1 completed\n",
            "[*********************100%%**********************]  1 of 1 completed\n",
            "[*********************100%%**********************]  1 of 1 completed\n",
            "[*********************100%%**********************]  1 of 1 completed\n",
            "<ipython-input-40-eb29eac7b921>:45: FutureWarning: DataFrame.fillna with 'method' is deprecated and will raise in a future version. Use obj.ffill() or obj.bfill() instead.\n",
            "  nvda_data = nvda_data.fillna(method='ffill').fillna(method='bfill')\n",
            "<ipython-input-40-eb29eac7b921>:46: FutureWarning: DataFrame.fillna with 'method' is deprecated and will raise in a future version. Use obj.ffill() or obj.bfill() instead.\n",
            "  vix_data = vix_data.fillna(method='ffill').fillna(method='bfill')\n",
            "<ipython-input-40-eb29eac7b921>:47: FutureWarning: DataFrame.fillna with 'method' is deprecated and will raise in a future version. Use obj.ffill() or obj.bfill() instead.\n",
            "  voo_data = voo_data.fillna(method='ffill').fillna(method='bfill')\n",
            "<ipython-input-40-eb29eac7b921>:48: FutureWarning: DataFrame.fillna with 'method' is deprecated and will raise in a future version. Use obj.ffill() or obj.bfill() instead.\n",
            "  msft_data = msft_data.fillna(method='ffill').fillna(method='bfill')\n",
            "<ipython-input-40-eb29eac7b921>:49: FutureWarning: DataFrame.fillna with 'method' is deprecated and will raise in a future version. Use obj.ffill() or obj.bfill() instead.\n",
            "  avgo_data = avgo_data.fillna(method='ffill').fillna(method='bfill')\n",
            "<ipython-input-40-eb29eac7b921>:50: FutureWarning: DataFrame.fillna with 'method' is deprecated and will raise in a future version. Use obj.ffill() or obj.bfill() instead.\n",
            "  treasury_1mo = treasury_1mo.fillna(method='ffill').fillna(method='bfill')\n"
          ]
        },
        {
          "output_type": "stream",
          "name": "stdout",
          "text": [
            "\u001b[1m1/1\u001b[0m \u001b[32m━━━━━━━━━━━━━━━━━━━━\u001b[0m\u001b[37m\u001b[0m \u001b[1m0s\u001b[0m 330ms/step\n",
            "预测未来14天内NVDA股价没有超过10%的累计下跌风险。\n"
          ]
        }
      ]
    }
  ]
}